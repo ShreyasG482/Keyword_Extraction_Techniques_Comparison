{
 "cells": [
  {
   "cell_type": "code",
   "execution_count": 1,
   "id": "0f8df6f8",
   "metadata": {},
   "outputs": [],
   "source": [
    "# Open and read the contents of the text file\n",
    "with open(\"Sample_Keyword_Extraction_Text.txt\", \"r\") as file:\n",
    "    text = file.read()"
   ]
  },
  {
   "cell_type": "code",
   "execution_count": 2,
   "id": "c750686c",
   "metadata": {},
   "outputs": [
    {
     "data": {
      "text/plain": [
       "\"ï»¿In today's digital age, data has emerged as the lifeblood of modern enterprises, driving innovation, efficiency, and competitiveness. Data Science and Machine Learning have revolutionized the way businesses operate, transforming raw data into actionable insights and predictions. Their importance cannot be overstated, as they play a pivotal role in shaping the future of various industries.Data Science, the multidisciplinary field that encompasses statistics, mathematics, and computer science, empowers organizations to make informed decisions. By analyzing vast datasets, Data Scientists uncover patterns, trends, and correlations, enabling businesses to optimize processes, enhance customer experiences, and identify market opportunities. Through advanced statistical techniques and predictive modeling, Data Science provides a deeper understanding of consumer behavior, enabling personalized marketing strategies and product recommendations, fostering customer loyalty and increasing revenue streams.Machine Learning, a subset of Artificial Intelligence, equips systems with the ability to learn from data and improve their performance over time. Its algorithms enable computers to recognize complex patterns, make predictions, and automate tasks without explicit programming. Machine Learning algorithms power a myriad of applications, from virtual assistants and recommendation systems to fraud detection and autonomous vehicles. These technologies enhance efficiency, reduce human error, and enable the development of innovative solutions to complex problems.Moreover, the synergy between Data Science and Machine Learning drives groundbreaking research in fields such as healthcare, finance, and climate science. In healthcare, predictive models aid in disease diagnosis and prognosis, optimizing treatment plans and improving patient outcomes. In finance, algorithmic trading and fraud detection systems analyze market trends and transaction patterns, ensuring secure financial transactions and maximizing investments. In climate science, data-driven models help predict environmental changes, facilitating sustainable policies and mitigating the impact of climate-related disasters.\\nAs businesses increasingly rely on data-driven strategies, professionals proficient in Data Science and Machine Learning are in high demand. Their expertise is instrumental in shaping the future landscape of technology, innovation, and decision-making. By harnessing the power of Data Science and Machine Learning, societies can tackle challenges, drive economic growth, and pave the way for a brighter, more informed future.\""
      ]
     },
     "execution_count": 2,
     "metadata": {},
     "output_type": "execute_result"
    }
   ],
   "source": [
    "text"
   ]
  },
  {
   "cell_type": "code",
   "execution_count": 3,
   "id": "76bb0d1a",
   "metadata": {},
   "outputs": [],
   "source": [
    "import re\n",
    "import nltk\n",
    "from nltk.corpus import stopwords\n",
    "from nltk.tokenize import word_tokenize"
   ]
  },
  {
   "cell_type": "code",
   "execution_count": 4,
   "id": "4aff5b35",
   "metadata": {},
   "outputs": [],
   "source": [
    "# Function to preprocess text for keyword extraction\n",
    "def preprocess_text(text):\n",
    "    # Convert text to lowercase\n",
    "    text = text.lower()\n",
    "    # Remove special characters and numbers using regular expression\n",
    "    text = re.sub(r'[^a-z]', ' ', text)\n",
    "    # Tokenize the text into words\n",
    "    words = word_tokenize(text)\n",
    "    # Remove stopwords\n",
    "    stop_words = set(stopwords.words('english'))\n",
    "    words = [word for word in words if word not in stop_words]\n",
    "    # Join the words back into a sentence\n",
    "    processed_text = ' '.join(words)\n",
    "    return processed_text"
   ]
  },
  {
   "cell_type": "code",
   "execution_count": 5,
   "id": "1d126311",
   "metadata": {},
   "outputs": [
    {
     "name": "stdout",
     "output_type": "stream",
     "text": [
      "Processed Text:\n",
      "today digital age data emerged lifeblood modern enterprises driving innovation efficiency competitiveness data science machine learning revolutionized way businesses operate transforming raw data actionable insights predictions importance overstated play pivotal role shaping future various industries data science multidisciplinary field encompasses statistics mathematics computer science empowers organizations make informed decisions analyzing vast datasets data scientists uncover patterns trends correlations enabling businesses optimize processes enhance customer experiences identify market opportunities advanced statistical techniques predictive modeling data science provides deeper understanding consumer behavior enabling personalized marketing strategies product recommendations fostering customer loyalty increasing revenue streams machine learning subset artificial intelligence equips systems ability learn data improve performance time algorithms enable computers recognize complex patterns make predictions automate tasks without explicit programming machine learning algorithms power myriad applications virtual assistants recommendation systems fraud detection autonomous vehicles technologies enhance efficiency reduce human error enable development innovative solutions complex problems moreover synergy data science machine learning drives groundbreaking research fields healthcare finance climate science healthcare predictive models aid disease diagnosis prognosis optimizing treatment plans improving patient outcomes finance algorithmic trading fraud detection systems analyze market trends transaction patterns ensuring secure financial transactions maximizing investments climate science data driven models help predict environmental changes facilitating sustainable policies mitigating impact climate related disasters businesses increasingly rely data driven strategies professionals proficient data science machine learning high demand expertise instrumental shaping future landscape technology innovation decision making harnessing power data science machine learning societies tackle challenges drive economic growth pave way brighter informed future\n"
     ]
    }
   ],
   "source": [
    "# Preprocess the sample paragraph\n",
    "processed_paragraph = preprocess_text(text)\n",
    "print(\"Processed Text:\")\n",
    "print(processed_paragraph)"
   ]
  },
  {
   "cell_type": "code",
   "execution_count": 6,
   "id": "8dbb3d91",
   "metadata": {},
   "outputs": [
    {
     "name": "stdout",
     "output_type": "stream",
     "text": [
      "Requirement already satisfied: rake-nltk in c:\\users\\shreyas\\anaconda3\\lib\\site-packages (1.0.6)\n",
      "Requirement already satisfied: nltk<4.0.0,>=3.6.2 in c:\\users\\shreyas\\anaconda3\\lib\\site-packages (from rake-nltk) (3.7)\n",
      "Requirement already satisfied: regex>=2021.8.3 in c:\\users\\shreyas\\anaconda3\\lib\\site-packages (from nltk<4.0.0,>=3.6.2->rake-nltk) (2022.7.9)\n",
      "Requirement already satisfied: joblib in c:\\users\\shreyas\\anaconda3\\lib\\site-packages (from nltk<4.0.0,>=3.6.2->rake-nltk) (1.3.2)\n",
      "Requirement already satisfied: tqdm in c:\\users\\shreyas\\anaconda3\\lib\\site-packages (from nltk<4.0.0,>=3.6.2->rake-nltk) (4.64.1)\n",
      "Requirement already satisfied: click in c:\\users\\shreyas\\anaconda3\\lib\\site-packages (from nltk<4.0.0,>=3.6.2->rake-nltk) (8.0.4)\n",
      "Requirement already satisfied: colorama in c:\\users\\shreyas\\anaconda3\\lib\\site-packages (from click->nltk<4.0.0,>=3.6.2->rake-nltk) (0.4.6)\n"
     ]
    },
    {
     "name": "stderr",
     "output_type": "stream",
     "text": [
      "WARNING: Ignoring invalid distribution -pencv-python (c:\\users\\shreyas\\anaconda3\\lib\\site-packages)\n",
      "WARNING: Ignoring invalid distribution -pencv-python (c:\\users\\shreyas\\anaconda3\\lib\\site-packages)\n",
      "WARNING: Ignoring invalid distribution -pencv-python (c:\\users\\shreyas\\anaconda3\\lib\\site-packages)\n",
      "WARNING: Ignoring invalid distribution -pencv-python (c:\\users\\shreyas\\anaconda3\\lib\\site-packages)\n",
      "WARNING: Ignoring invalid distribution -pencv-python (c:\\users\\shreyas\\anaconda3\\lib\\site-packages)\n",
      "WARNING: Ignoring invalid distribution -pencv-python (c:\\users\\shreyas\\anaconda3\\lib\\site-packages)\n"
     ]
    }
   ],
   "source": [
    "#Keyword Extraction\n",
    "#RAKE\n",
    "!pip3 install rake-nltk"
   ]
  },
  {
   "cell_type": "code",
   "execution_count": 7,
   "id": "e11a69d5",
   "metadata": {},
   "outputs": [
    {
     "name": "stderr",
     "output_type": "stream",
     "text": [
      "[nltk_data] Downloading package stopwords to\n",
      "[nltk_data]     C:\\Users\\Shreyas\\AppData\\Roaming\\nltk_data...\n",
      "[nltk_data]   Package stopwords is already up-to-date!\n",
      "[nltk_data] Downloading package punkt to\n",
      "[nltk_data]     C:\\Users\\Shreyas\\AppData\\Roaming\\nltk_data...\n",
      "[nltk_data]   Package punkt is already up-to-date!\n"
     ]
    },
    {
     "data": {
      "text/plain": [
       "True"
      ]
     },
     "execution_count": 7,
     "metadata": {},
     "output_type": "execute_result"
    }
   ],
   "source": [
    "from rake_nltk import Rake\n",
    "import nltk\n",
    "nltk.download('stopwords')\n",
    "nltk.download('punkt')"
   ]
  },
  {
   "cell_type": "code",
   "execution_count": 8,
   "id": "246aa2f4",
   "metadata": {},
   "outputs": [],
   "source": [
    "r = Rake()"
   ]
  },
  {
   "cell_type": "code",
   "execution_count": 9,
   "id": "c47224fc",
   "metadata": {},
   "outputs": [],
   "source": [
    "r.extract_keywords_from_text(processed_paragraph)\n",
    "keywordList = []\n",
    "rankedList = r.get_ranked_phrases_with_scores()"
   ]
  },
  {
   "cell_type": "code",
   "execution_count": 10,
   "id": "dc4ef91e",
   "metadata": {},
   "outputs": [
    {
     "name": "stdout",
     "output_type": "stream",
     "text": [
      "['today digital']\n"
     ]
    }
   ],
   "source": [
    "for keyword in rankedList:\n",
    "  keyword_updated       = keyword[1].split()\n",
    "  keyword_updated_string    = \" \".join(keyword_updated[:2])\n",
    "  keywordList.append(keyword_updated_string)\n",
    "  if(len(keywordList)>9):\n",
    "    break\n",
    "print(keywordList)"
   ]
  },
  {
   "cell_type": "code",
   "execution_count": 11,
   "id": "75c9ba09",
   "metadata": {},
   "outputs": [
    {
     "data": {
      "text/plain": [
       "[(60025.0,\n",
       "  'today digital age data emerged lifeblood modern enterprises driving innovation efficiency competitiveness data science machine learning revolutionized way businesses operate transforming raw data actionable insights predictions importance overstated play pivotal role shaping future various industries data science multidisciplinary field encompasses statistics mathematics computer science empowers organizations make informed decisions analyzing vast datasets data scientists uncover patterns trends correlations enabling businesses optimize processes enhance customer experiences identify market opportunities advanced statistical techniques predictive modeling data science provides deeper understanding consumer behavior enabling personalized marketing strategies product recommendations fostering customer loyalty increasing revenue streams machine learning subset artificial intelligence equips systems ability learn data improve performance time algorithms enable computers recognize complex patterns make predictions automate tasks without explicit programming machine learning algorithms power myriad applications virtual assistants recommendation systems fraud detection autonomous vehicles technologies enhance efficiency reduce human error enable development innovative solutions complex problems moreover synergy data science machine learning drives groundbreaking research fields healthcare finance climate science healthcare predictive models aid disease diagnosis prognosis optimizing treatment plans improving patient outcomes finance algorithmic trading fraud detection systems analyze market trends transaction patterns ensuring secure financial transactions maximizing investments climate science data driven models help predict environmental changes facilitating sustainable policies mitigating impact climate related disasters businesses increasingly rely data driven strategies professionals proficient data science machine learning high demand expertise instrumental shaping future landscape technology innovation decision making harnessing power data science machine learning societies tackle challenges drive economic growth pave way brighter informed future')]"
      ]
     },
     "execution_count": 11,
     "metadata": {},
     "output_type": "execute_result"
    }
   ],
   "source": [
    "rankedList"
   ]
  },
  {
   "cell_type": "code",
   "execution_count": 12,
   "id": "0cb49f7e",
   "metadata": {},
   "outputs": [],
   "source": [
    "#WordCloud"
   ]
  },
  {
   "cell_type": "code",
   "execution_count": 13,
   "id": "d3284a71",
   "metadata": {},
   "outputs": [
    {
     "name": "stderr",
     "output_type": "stream",
     "text": [
      "WARNING: Ignoring invalid distribution -pencv-python (c:\\users\\shreyas\\anaconda3\\lib\\site-packages)\n",
      "WARNING: Ignoring invalid distribution -pencv-python (c:\\users\\shreyas\\anaconda3\\lib\\site-packages)\n",
      "WARNING: Ignoring invalid distribution -pencv-python (c:\\users\\shreyas\\anaconda3\\lib\\site-packages)\n",
      "WARNING: Ignoring invalid distribution -pencv-python (c:\\users\\shreyas\\anaconda3\\lib\\site-packages)\n",
      "WARNING: Ignoring invalid distribution -pencv-python (c:\\users\\shreyas\\anaconda3\\lib\\site-packages)\n",
      "WARNING: Ignoring invalid distribution -pencv-python (c:\\users\\shreyas\\anaconda3\\lib\\site-packages)\n"
     ]
    },
    {
     "name": "stdout",
     "output_type": "stream",
     "text": [
      "Requirement already satisfied: wordcloud in c:\\users\\shreyas\\anaconda3\\lib\\site-packages (1.9.2)\n",
      "Requirement already satisfied: matplotlib in c:\\users\\shreyas\\anaconda3\\lib\\site-packages (from wordcloud) (3.5.2)\n",
      "Requirement already satisfied: pillow in c:\\users\\shreyas\\anaconda3\\lib\\site-packages (from wordcloud) (9.2.0)\n",
      "Requirement already satisfied: numpy>=1.6.1 in c:\\users\\shreyas\\anaconda3\\lib\\site-packages (from wordcloud) (1.24.4)\n",
      "Requirement already satisfied: python-dateutil>=2.7 in c:\\users\\shreyas\\anaconda3\\lib\\site-packages (from matplotlib->wordcloud) (2.8.2)\n",
      "Requirement already satisfied: kiwisolver>=1.0.1 in c:\\users\\shreyas\\anaconda3\\lib\\site-packages (from matplotlib->wordcloud) (1.4.2)\n",
      "Requirement already satisfied: cycler>=0.10 in c:\\users\\shreyas\\anaconda3\\lib\\site-packages (from matplotlib->wordcloud) (0.11.0)\n",
      "Requirement already satisfied: packaging>=20.0 in c:\\users\\shreyas\\anaconda3\\lib\\site-packages (from matplotlib->wordcloud) (21.3)\n",
      "Requirement already satisfied: pyparsing>=2.2.1 in c:\\users\\shreyas\\anaconda3\\lib\\site-packages (from matplotlib->wordcloud) (3.0.9)\n",
      "Requirement already satisfied: fonttools>=4.22.0 in c:\\users\\shreyas\\anaconda3\\lib\\site-packages (from matplotlib->wordcloud) (4.25.0)\n",
      "Requirement already satisfied: six>=1.5 in c:\\users\\shreyas\\anaconda3\\lib\\site-packages (from python-dateutil>=2.7->matplotlib->wordcloud) (1.16.0)\n"
     ]
    }
   ],
   "source": [
    "!pip3 install wordcloud"
   ]
  },
  {
   "cell_type": "code",
   "execution_count": 14,
   "id": "61552780",
   "metadata": {},
   "outputs": [
    {
     "name": "stdout",
     "output_type": "stream",
     "text": [
      "Requirement already satisfied: keybert in c:\\users\\shreyas\\anaconda3\\lib\\site-packages (0.8.3)\n",
      "Requirement already satisfied: rich>=10.4.0 in c:\\users\\shreyas\\anaconda3\\lib\\site-packages (from keybert) (13.3.4)\n",
      "Requirement already satisfied: scikit-learn>=0.22.2 in c:\\users\\shreyas\\appdata\\roaming\\python\\python39\\site-packages (from keybert) (1.3.2)\n",
      "Requirement already satisfied: numpy>=1.18.5 in c:\\users\\shreyas\\anaconda3\\lib\\site-packages (from keybert) (1.24.4)\n",
      "Requirement already satisfied: sentence-transformers>=0.3.8 in c:\\users\\shreyas\\anaconda3\\lib\\site-packages (from keybert) (2.2.2)\n",
      "Requirement already satisfied: markdown-it-py<3.0.0,>=2.2.0 in c:\\users\\shreyas\\anaconda3\\lib\\site-packages (from rich>=10.4.0->keybert) (2.2.0)\n",
      "Requirement already satisfied: pygments<3.0.0,>=2.13.0 in c:\\users\\shreyas\\anaconda3\\lib\\site-packages (from rich>=10.4.0->keybert) (2.15.1)\n",
      "Requirement already satisfied: threadpoolctl>=2.0.0 in c:\\users\\shreyas\\anaconda3\\lib\\site-packages (from scikit-learn>=0.22.2->keybert) (2.2.0)\n",
      "Requirement already satisfied: scipy>=1.5.0 in c:\\users\\shreyas\\anaconda3\\lib\\site-packages (from scikit-learn>=0.22.2->keybert) (1.9.1)\n",
      "Requirement already satisfied: joblib>=1.1.1 in c:\\users\\shreyas\\anaconda3\\lib\\site-packages (from scikit-learn>=0.22.2->keybert) (1.3.2)\n",
      "Requirement already satisfied: nltk in c:\\users\\shreyas\\anaconda3\\lib\\site-packages (from sentence-transformers>=0.3.8->keybert) (3.7)\n",
      "Requirement already satisfied: torchvision in c:\\users\\shreyas\\anaconda3\\lib\\site-packages (from sentence-transformers>=0.3.8->keybert) (0.16.0)\n",
      "Requirement already satisfied: sentencepiece in c:\\users\\shreyas\\anaconda3\\lib\\site-packages (from sentence-transformers>=0.3.8->keybert) (0.1.99)\n",
      "Requirement already satisfied: tqdm in c:\\users\\shreyas\\anaconda3\\lib\\site-packages (from sentence-transformers>=0.3.8->keybert) (4.64.1)\n",
      "Requirement already satisfied: transformers<5.0.0,>=4.6.0 in c:\\users\\shreyas\\anaconda3\\lib\\site-packages (from sentence-transformers>=0.3.8->keybert) (4.35.0)\n",
      "Requirement already satisfied: torch>=1.6.0 in c:\\users\\shreyas\\anaconda3\\lib\\site-packages (from sentence-transformers>=0.3.8->keybert) (2.1.0)\n",
      "Requirement already satisfied: huggingface-hub>=0.4.0 in c:\\users\\shreyas\\anaconda3\\lib\\site-packages (from sentence-transformers>=0.3.8->keybert) (0.17.3)\n",
      "Requirement already satisfied: fsspec in c:\\users\\shreyas\\anaconda3\\lib\\site-packages (from huggingface-hub>=0.4.0->sentence-transformers>=0.3.8->keybert) (2023.10.0)\n",
      "Requirement already satisfied: pyyaml>=5.1 in c:\\users\\shreyas\\anaconda3\\lib\\site-packages (from huggingface-hub>=0.4.0->sentence-transformers>=0.3.8->keybert) (6.0)\n",
      "Requirement already satisfied: typing-extensions>=3.7.4.3 in c:\\users\\shreyas\\anaconda3\\lib\\site-packages (from huggingface-hub>=0.4.0->sentence-transformers>=0.3.8->keybert) (4.8.0)\n",
      "Requirement already satisfied: filelock in c:\\users\\shreyas\\anaconda3\\lib\\site-packages (from huggingface-hub>=0.4.0->sentence-transformers>=0.3.8->keybert) (3.6.0)\n",
      "Requirement already satisfied: requests in c:\\users\\shreyas\\anaconda3\\lib\\site-packages (from huggingface-hub>=0.4.0->sentence-transformers>=0.3.8->keybert) (2.28.1)\n",
      "Requirement already satisfied: packaging>=20.9 in c:\\users\\shreyas\\anaconda3\\lib\\site-packages (from huggingface-hub>=0.4.0->sentence-transformers>=0.3.8->keybert) (21.3)\n",
      "Requirement already satisfied: mdurl~=0.1 in c:\\users\\shreyas\\anaconda3\\lib\\site-packages (from markdown-it-py<3.0.0,>=2.2.0->rich>=10.4.0->keybert) (0.1.2)\n",
      "Requirement already satisfied: networkx in c:\\users\\shreyas\\anaconda3\\lib\\site-packages (from torch>=1.6.0->sentence-transformers>=0.3.8->keybert) (2.8.4)\n",
      "Requirement already satisfied: jinja2 in c:\\users\\shreyas\\anaconda3\\lib\\site-packages (from torch>=1.6.0->sentence-transformers>=0.3.8->keybert) (2.11.3)\n",
      "Requirement already satisfied: sympy in c:\\users\\shreyas\\anaconda3\\lib\\site-packages (from torch>=1.6.0->sentence-transformers>=0.3.8->keybert) (1.10.1)\n",
      "Requirement already satisfied: colorama in c:\\users\\shreyas\\anaconda3\\lib\\site-packages (from tqdm->sentence-transformers>=0.3.8->keybert) (0.4.6)\n",
      "Requirement already satisfied: safetensors>=0.3.1 in c:\\users\\shreyas\\anaconda3\\lib\\site-packages (from transformers<5.0.0,>=4.6.0->sentence-transformers>=0.3.8->keybert) (0.4.0)\n",
      "Requirement already satisfied: tokenizers<0.15,>=0.14 in c:\\users\\shreyas\\anaconda3\\lib\\site-packages (from transformers<5.0.0,>=4.6.0->sentence-transformers>=0.3.8->keybert) (0.14.1)\n",
      "Requirement already satisfied: regex!=2019.12.17 in c:\\users\\shreyas\\anaconda3\\lib\\site-packages (from transformers<5.0.0,>=4.6.0->sentence-transformers>=0.3.8->keybert) (2022.7.9)\n",
      "Requirement already satisfied: click in c:\\users\\shreyas\\anaconda3\\lib\\site-packages (from nltk->sentence-transformers>=0.3.8->keybert) (8.0.4)\n",
      "Requirement already satisfied: pillow!=8.3.*,>=5.3.0 in c:\\users\\shreyas\\anaconda3\\lib\\site-packages (from torchvision->sentence-transformers>=0.3.8->keybert) (9.2.0)\n",
      "Requirement already satisfied: pyparsing!=3.0.5,>=2.0.2 in c:\\users\\shreyas\\anaconda3\\lib\\site-packages (from packaging>=20.9->huggingface-hub>=0.4.0->sentence-transformers>=0.3.8->keybert) (3.0.9)\n",
      "Requirement already satisfied: MarkupSafe>=0.23 in c:\\users\\shreyas\\anaconda3\\lib\\site-packages (from jinja2->torch>=1.6.0->sentence-transformers>=0.3.8->keybert) (2.0.1)\n",
      "Requirement already satisfied: urllib3<1.27,>=1.21.1 in c:\\users\\shreyas\\anaconda3\\lib\\site-packages (from requests->huggingface-hub>=0.4.0->sentence-transformers>=0.3.8->keybert) (1.26.11)\n",
      "Requirement already satisfied: certifi>=2017.4.17 in c:\\users\\shreyas\\anaconda3\\lib\\site-packages (from requests->huggingface-hub>=0.4.0->sentence-transformers>=0.3.8->keybert) (2022.9.14)\n",
      "Requirement already satisfied: charset-normalizer<3,>=2 in c:\\users\\shreyas\\anaconda3\\lib\\site-packages (from requests->huggingface-hub>=0.4.0->sentence-transformers>=0.3.8->keybert) (2.0.4)\n",
      "Requirement already satisfied: idna<4,>=2.5 in c:\\users\\shreyas\\anaconda3\\lib\\site-packages (from requests->huggingface-hub>=0.4.0->sentence-transformers>=0.3.8->keybert) (3.3)\n",
      "Requirement already satisfied: mpmath>=0.19 in c:\\users\\shreyas\\anaconda3\\lib\\site-packages (from sympy->torch>=1.6.0->sentence-transformers>=0.3.8->keybert) (1.2.1)\n"
     ]
    },
    {
     "name": "stderr",
     "output_type": "stream",
     "text": [
      "WARNING: Ignoring invalid distribution -pencv-python (c:\\users\\shreyas\\anaconda3\\lib\\site-packages)\n",
      "WARNING: Ignoring invalid distribution -pencv-python (c:\\users\\shreyas\\anaconda3\\lib\\site-packages)\n",
      "WARNING: Ignoring invalid distribution -pencv-python (c:\\users\\shreyas\\anaconda3\\lib\\site-packages)\n",
      "WARNING: Ignoring invalid distribution -pencv-python (c:\\users\\shreyas\\anaconda3\\lib\\site-packages)\n",
      "WARNING: Ignoring invalid distribution -pencv-python (c:\\users\\shreyas\\anaconda3\\lib\\site-packages)\n",
      "WARNING: Ignoring invalid distribution -pencv-python (c:\\users\\shreyas\\anaconda3\\lib\\site-packages)\n"
     ]
    }
   ],
   "source": [
    "#KeyBERT\n",
    "!pip3 install keybert"
   ]
  },
  {
   "cell_type": "code",
   "execution_count": 15,
   "id": "5679a198",
   "metadata": {},
   "outputs": [],
   "source": [
    "from keybert import KeyBERT"
   ]
  },
  {
   "cell_type": "code",
   "execution_count": 16,
   "id": "8cc5ae99",
   "metadata": {},
   "outputs": [],
   "source": [
    "text = \"\"\"\n",
    "         Supervised learning is the machine learning task of learning a function that\n",
    "         maps an input to an output based on example input-output pairs. It infers a\n",
    "         function from labeled training data consisting of a set of training examples.\n",
    "         In supervised learning, each example is a pair consisting of an input object\n",
    "         (typically a vector) and a desired output value (also called the supervisory signal). \n",
    "         A supervised learning algorithm analyzes the training data and produces an inferred function, \n",
    "         which can be used for mapping new examples. An optimal scenario will allow for the \n",
    "         algorithm to correctly determine the class labels for unseen instances. This requires \n",
    "         the learning algorithm to generalize from the training data to unseen situations in a \n",
    "         'reasonable' way.\"\"\""
   ]
  },
  {
   "cell_type": "code",
   "execution_count": 17,
   "id": "e4e2838f",
   "metadata": {},
   "outputs": [],
   "source": [
    "kw_model = KeyBERT()\n",
    "keywords = kw_model.extract_keywords(processed_paragraph)"
   ]
  },
  {
   "cell_type": "code",
   "execution_count": 18,
   "id": "0dccb0d5",
   "metadata": {},
   "outputs": [
    {
     "data": {
      "text/plain": [
       "[('datasets', 0.3931),\n",
       " ('data', 0.3369),\n",
       " ('trends', 0.3005),\n",
       " ('increasingly', 0.2771),\n",
       " ('strategies', 0.2598)]"
      ]
     },
     "execution_count": 18,
     "metadata": {},
     "output_type": "execute_result"
    }
   ],
   "source": [
    "keywords"
   ]
  },
  {
   "cell_type": "code",
   "execution_count": 19,
   "id": "eb86c8c8",
   "metadata": {},
   "outputs": [
    {
     "name": "stdout",
     "output_type": "stream",
     "text": [
      "Requirement already satisfied: yake in c:\\users\\shreyas\\anaconda3\\lib\\site-packages (0.4.8)\n",
      "Requirement already satisfied: numpy in c:\\users\\shreyas\\anaconda3\\lib\\site-packages (from yake) (1.24.4)\n",
      "Requirement already satisfied: click>=6.0 in c:\\users\\shreyas\\anaconda3\\lib\\site-packages (from yake) (8.0.4)\n",
      "Requirement already satisfied: networkx in c:\\users\\shreyas\\anaconda3\\lib\\site-packages (from yake) (2.8.4)\n",
      "Requirement already satisfied: segtok in c:\\users\\shreyas\\anaconda3\\lib\\site-packages (from yake) (1.5.11)\n",
      "Requirement already satisfied: jellyfish in c:\\users\\shreyas\\anaconda3\\lib\\site-packages (from yake) (0.9.0)\n",
      "Requirement already satisfied: tabulate in c:\\users\\shreyas\\anaconda3\\lib\\site-packages (from yake) (0.8.10)\n",
      "Requirement already satisfied: colorama in c:\\users\\shreyas\\anaconda3\\lib\\site-packages (from click>=6.0->yake) (0.4.6)\n",
      "Requirement already satisfied: regex in c:\\users\\shreyas\\anaconda3\\lib\\site-packages (from segtok->yake) (2022.7.9)\n"
     ]
    },
    {
     "name": "stderr",
     "output_type": "stream",
     "text": [
      "WARNING: Ignoring invalid distribution -pencv-python (c:\\users\\shreyas\\anaconda3\\lib\\site-packages)\n",
      "WARNING: Ignoring invalid distribution -pencv-python (c:\\users\\shreyas\\anaconda3\\lib\\site-packages)\n",
      "WARNING: Ignoring invalid distribution -pencv-python (c:\\users\\shreyas\\anaconda3\\lib\\site-packages)\n",
      "WARNING: Ignoring invalid distribution -pencv-python (c:\\users\\shreyas\\anaconda3\\lib\\site-packages)\n",
      "WARNING: Ignoring invalid distribution -pencv-python (c:\\users\\shreyas\\anaconda3\\lib\\site-packages)\n",
      "WARNING: Ignoring invalid distribution -pencv-python (c:\\users\\shreyas\\anaconda3\\lib\\site-packages)\n"
     ]
    }
   ],
   "source": [
    "#YAKE\n",
    "!pip3 install yake"
   ]
  },
  {
   "cell_type": "code",
   "execution_count": 20,
   "id": "c3603808",
   "metadata": {},
   "outputs": [],
   "source": [
    "import yake"
   ]
  },
  {
   "cell_type": "code",
   "execution_count": 21,
   "id": "3c000dce",
   "metadata": {},
   "outputs": [],
   "source": [
    "kw_extractor = yake.KeywordExtractor()\n",
    "keywords = kw_extractor.extract_keywords(processed_paragraph)"
   ]
  },
  {
   "cell_type": "code",
   "execution_count": 22,
   "id": "dc2ceeb8",
   "metadata": {},
   "outputs": [
    {
     "name": "stdout",
     "output_type": "stream",
     "text": [
      "('science machine learning', 5.036586159461037e-05)\n",
      "('data science machine', 7.203174563367408e-05)\n",
      "('machine learning revolutionized', 0.0002801182205263686)\n",
      "('machine learning subset', 0.0002801182205263686)\n",
      "('machine learning high', 0.0002801182205263686)\n",
      "('machine learning societies', 0.0002801182205263686)\n",
      "('streams machine learning', 0.00028011822052636864)\n",
      "('programming machine learning', 0.00028011822052636864)\n",
      "('machine learning algorithms', 0.00028639570543162923)\n",
      "('machine learning drives', 0.00028639570543162923)\n",
      "('revenue streams machine', 0.0003552106204363499)\n",
      "('explicit programming machine', 0.0003552106204363499)\n",
      "('investments climate science', 0.00042857929391718633)\n",
      "('finance climate science', 0.000438203682855229)\n",
      "('climate science healthcare', 0.000438203682855229)\n",
      "('science empowers organizations', 0.0004489680038703627)\n",
      "('science multidisciplinary field', 0.00045905325845451355)\n",
      "('mathematics computer science', 0.0004590532584545136)\n",
      "('computer science empowers', 0.0004590532584545136)\n",
      "('science data driven', 0.000459565442762601)\n"
     ]
    }
   ],
   "source": [
    "for kw in keywords:\n",
    "  print(kw)"
   ]
  },
  {
   "cell_type": "code",
   "execution_count": 23,
   "id": "06b894cb",
   "metadata": {},
   "outputs": [],
   "source": [
    "#TextRank"
   ]
  },
  {
   "cell_type": "code",
   "execution_count": 24,
   "id": "d776da77",
   "metadata": {},
   "outputs": [
    {
     "name": "stdout",
     "output_type": "stream",
     "text": [
      "Requirement already satisfied: pytextrank in c:\\users\\shreyas\\anaconda3\\lib\\site-packages (3.2.5)\n",
      "Requirement already satisfied: icecream>=2.1 in c:\\users\\shreyas\\anaconda3\\lib\\site-packages (from pytextrank) (2.1.3)\n",
      "Requirement already satisfied: spacy>=3.0 in c:\\users\\shreyas\\anaconda3\\lib\\site-packages (from pytextrank) (3.7.2)\n",
      "Requirement already satisfied: scipy>=1.7 in c:\\users\\shreyas\\anaconda3\\lib\\site-packages (from pytextrank) (1.9.1)\n",
      "Requirement already satisfied: networkx[default]>=2.6 in c:\\users\\shreyas\\anaconda3\\lib\\site-packages (from pytextrank) (2.8.4)\n",
      "Requirement already satisfied: graphviz>=0.13 in c:\\users\\shreyas\\anaconda3\\lib\\site-packages (from pytextrank) (0.20.1)\n",
      "Requirement already satisfied: pygments>=2.7.4 in c:\\users\\shreyas\\anaconda3\\lib\\site-packages (from pytextrank) (2.15.1)\n",
      "Requirement already satisfied: executing>=0.3.1 in c:\\users\\shreyas\\anaconda3\\lib\\site-packages (from icecream>=2.1->pytextrank) (2.0.1)\n",
      "Requirement already satisfied: colorama>=0.3.9 in c:\\users\\shreyas\\anaconda3\\lib\\site-packages (from icecream>=2.1->pytextrank) (0.4.6)\n",
      "Requirement already satisfied: asttokens>=2.0.1 in c:\\users\\shreyas\\anaconda3\\lib\\site-packages (from icecream>=2.1->pytextrank) (2.4.1)\n",
      "Requirement already satisfied: numpy>=1.19 in c:\\users\\shreyas\\anaconda3\\lib\\site-packages (from networkx[default]>=2.6->pytextrank) (1.24.4)\n",
      "Requirement already satisfied: pandas>=1.3 in c:\\users\\shreyas\\anaconda3\\lib\\site-packages (from networkx[default]>=2.6->pytextrank) (1.4.4)\n",
      "Requirement already satisfied: matplotlib>=3.4 in c:\\users\\shreyas\\anaconda3\\lib\\site-packages (from networkx[default]>=2.6->pytextrank) (3.5.2)\n",
      "Requirement already satisfied: murmurhash<1.1.0,>=0.28.0 in c:\\users\\shreyas\\anaconda3\\lib\\site-packages (from spacy>=3.0->pytextrank) (1.0.10)\n",
      "Requirement already satisfied: weasel<0.4.0,>=0.1.0 in c:\\users\\shreyas\\anaconda3\\lib\\site-packages (from spacy>=3.0->pytextrank) (0.3.4)\n",
      "Requirement already satisfied: requests<3.0.0,>=2.13.0 in c:\\users\\shreyas\\anaconda3\\lib\\site-packages (from spacy>=3.0->pytextrank) (2.28.1)\n",
      "Requirement already satisfied: srsly<3.0.0,>=2.4.3 in c:\\users\\shreyas\\anaconda3\\lib\\site-packages (from spacy>=3.0->pytextrank) (2.4.8)\n",
      "Requirement already satisfied: setuptools in c:\\users\\shreyas\\anaconda3\\lib\\site-packages (from spacy>=3.0->pytextrank) (63.4.1)\n",
      "Requirement already satisfied: smart-open<7.0.0,>=5.2.1 in c:\\users\\shreyas\\anaconda3\\lib\\site-packages (from spacy>=3.0->pytextrank) (5.2.1)\n",
      "Requirement already satisfied: langcodes<4.0.0,>=3.2.0 in c:\\users\\shreyas\\anaconda3\\lib\\site-packages (from spacy>=3.0->pytextrank) (3.3.0)\n",
      "Requirement already satisfied: jinja2 in c:\\users\\shreyas\\anaconda3\\lib\\site-packages (from spacy>=3.0->pytextrank) (2.11.3)\n",
      "Requirement already satisfied: spacy-legacy<3.1.0,>=3.0.11 in c:\\users\\shreyas\\anaconda3\\lib\\site-packages (from spacy>=3.0->pytextrank) (3.0.12)\n",
      "Requirement already satisfied: preshed<3.1.0,>=3.0.2 in c:\\users\\shreyas\\anaconda3\\lib\\site-packages (from spacy>=3.0->pytextrank) (3.0.9)\n",
      "Requirement already satisfied: packaging>=20.0 in c:\\users\\shreyas\\anaconda3\\lib\\site-packages (from spacy>=3.0->pytextrank) (21.3)\n",
      "Requirement already satisfied: cymem<2.1.0,>=2.0.2 in c:\\users\\shreyas\\anaconda3\\lib\\site-packages (from spacy>=3.0->pytextrank) (2.0.8)\n",
      "Requirement already satisfied: wasabi<1.2.0,>=0.9.1 in c:\\users\\shreyas\\anaconda3\\lib\\site-packages (from spacy>=3.0->pytextrank) (1.1.2)\n",
      "Requirement already satisfied: thinc<8.3.0,>=8.1.8 in c:\\users\\shreyas\\anaconda3\\lib\\site-packages (from spacy>=3.0->pytextrank) (8.2.1)\n",
      "Requirement already satisfied: tqdm<5.0.0,>=4.38.0 in c:\\users\\shreyas\\anaconda3\\lib\\site-packages (from spacy>=3.0->pytextrank) (4.64.1)\n",
      "Requirement already satisfied: spacy-loggers<2.0.0,>=1.0.0 in c:\\users\\shreyas\\anaconda3\\lib\\site-packages (from spacy>=3.0->pytextrank) (1.0.5)\n",
      "Requirement already satisfied: catalogue<2.1.0,>=2.0.6 in c:\\users\\shreyas\\anaconda3\\lib\\site-packages (from spacy>=3.0->pytextrank) (2.0.10)\n",
      "Requirement already satisfied: typer<0.10.0,>=0.3.0 in c:\\users\\shreyas\\anaconda3\\lib\\site-packages (from spacy>=3.0->pytextrank) (0.9.0)\n",
      "Requirement already satisfied: pydantic!=1.8,!=1.8.1,<3.0.0,>=1.7.4 in c:\\users\\shreyas\\anaconda3\\lib\\site-packages (from spacy>=3.0->pytextrank) (2.4.2)\n",
      "Requirement already satisfied: six>=1.12.0 in c:\\users\\shreyas\\anaconda3\\lib\\site-packages (from asttokens>=2.0.1->icecream>=2.1->pytextrank) (1.16.0)\n",
      "Requirement already satisfied: python-dateutil>=2.7 in c:\\users\\shreyas\\anaconda3\\lib\\site-packages (from matplotlib>=3.4->networkx[default]>=2.6->pytextrank) (2.8.2)\n",
      "Requirement already satisfied: fonttools>=4.22.0 in c:\\users\\shreyas\\anaconda3\\lib\\site-packages (from matplotlib>=3.4->networkx[default]>=2.6->pytextrank) (4.25.0)\n",
      "Requirement already satisfied: pillow>=6.2.0 in c:\\users\\shreyas\\anaconda3\\lib\\site-packages (from matplotlib>=3.4->networkx[default]>=2.6->pytextrank) (9.2.0)\n",
      "Requirement already satisfied: cycler>=0.10 in c:\\users\\shreyas\\anaconda3\\lib\\site-packages (from matplotlib>=3.4->networkx[default]>=2.6->pytextrank) (0.11.0)\n",
      "Requirement already satisfied: kiwisolver>=1.0.1 in c:\\users\\shreyas\\anaconda3\\lib\\site-packages (from matplotlib>=3.4->networkx[default]>=2.6->pytextrank) (1.4.2)\n",
      "Requirement already satisfied: pyparsing>=2.2.1 in c:\\users\\shreyas\\anaconda3\\lib\\site-packages (from matplotlib>=3.4->networkx[default]>=2.6->pytextrank) (3.0.9)\n",
      "Requirement already satisfied: pytz>=2020.1 in c:\\users\\shreyas\\anaconda3\\lib\\site-packages (from pandas>=1.3->networkx[default]>=2.6->pytextrank) (2022.1)\n",
      "Requirement already satisfied: pydantic-core==2.10.1 in c:\\users\\shreyas\\anaconda3\\lib\\site-packages (from pydantic!=1.8,!=1.8.1,<3.0.0,>=1.7.4->spacy>=3.0->pytextrank) (2.10.1)\n",
      "Requirement already satisfied: annotated-types>=0.4.0 in c:\\users\\shreyas\\anaconda3\\lib\\site-packages (from pydantic!=1.8,!=1.8.1,<3.0.0,>=1.7.4->spacy>=3.0->pytextrank) (0.6.0)\n",
      "Requirement already satisfied: typing-extensions>=4.6.1 in c:\\users\\shreyas\\anaconda3\\lib\\site-packages (from pydantic!=1.8,!=1.8.1,<3.0.0,>=1.7.4->spacy>=3.0->pytextrank) (4.8.0)\n",
      "Requirement already satisfied: charset-normalizer<3,>=2 in c:\\users\\shreyas\\anaconda3\\lib\\site-packages (from requests<3.0.0,>=2.13.0->spacy>=3.0->pytextrank) (2.0.4)\n",
      "Requirement already satisfied: certifi>=2017.4.17 in c:\\users\\shreyas\\anaconda3\\lib\\site-packages (from requests<3.0.0,>=2.13.0->spacy>=3.0->pytextrank) (2022.9.14)\n",
      "Requirement already satisfied: idna<4,>=2.5 in c:\\users\\shreyas\\anaconda3\\lib\\site-packages (from requests<3.0.0,>=2.13.0->spacy>=3.0->pytextrank) (3.3)\n",
      "Requirement already satisfied: urllib3<1.27,>=1.21.1 in c:\\users\\shreyas\\anaconda3\\lib\\site-packages (from requests<3.0.0,>=2.13.0->spacy>=3.0->pytextrank) (1.26.11)\n",
      "Requirement already satisfied: confection<1.0.0,>=0.0.1 in c:\\users\\shreyas\\anaconda3\\lib\\site-packages (from thinc<8.3.0,>=8.1.8->spacy>=3.0->pytextrank) (0.1.3)\n",
      "Requirement already satisfied: blis<0.8.0,>=0.7.8 in c:\\users\\shreyas\\anaconda3\\lib\\site-packages (from thinc<8.3.0,>=8.1.8->spacy>=3.0->pytextrank) (0.7.11)\n",
      "Requirement already satisfied: click<9.0.0,>=7.1.1 in c:\\users\\shreyas\\anaconda3\\lib\\site-packages (from typer<0.10.0,>=0.3.0->spacy>=3.0->pytextrank) (8.0.4)\n",
      "Requirement already satisfied: cloudpathlib<0.17.0,>=0.7.0 in c:\\users\\shreyas\\anaconda3\\lib\\site-packages (from weasel<0.4.0,>=0.1.0->spacy>=3.0->pytextrank) (0.16.0)\n",
      "Requirement already satisfied: MarkupSafe>=0.23 in c:\\users\\shreyas\\anaconda3\\lib\\site-packages (from jinja2->spacy>=3.0->pytextrank) (2.0.1)\n"
     ]
    },
    {
     "name": "stderr",
     "output_type": "stream",
     "text": [
      "WARNING: Ignoring invalid distribution -pencv-python (c:\\users\\shreyas\\anaconda3\\lib\\site-packages)\n",
      "WARNING: Ignoring invalid distribution -pencv-python (c:\\users\\shreyas\\anaconda3\\lib\\site-packages)\n",
      "WARNING: Ignoring invalid distribution -pencv-python (c:\\users\\shreyas\\anaconda3\\lib\\site-packages)\n",
      "WARNING: Ignoring invalid distribution -pencv-python (c:\\users\\shreyas\\anaconda3\\lib\\site-packages)\n",
      "WARNING: Ignoring invalid distribution -pencv-python (c:\\users\\shreyas\\anaconda3\\lib\\site-packages)\n",
      "WARNING: Ignoring invalid distribution -pencv-python (c:\\users\\shreyas\\anaconda3\\lib\\site-packages)\n"
     ]
    }
   ],
   "source": [
    "!pip3 install pytextrank"
   ]
  },
  {
   "cell_type": "code",
   "execution_count": 25,
   "id": "c004ad8c",
   "metadata": {},
   "outputs": [
    {
     "name": "stdout",
     "output_type": "stream",
     "text": [
      "Collecting en-core-web-sm==3.7.0\n",
      "  Using cached https://github.com/explosion/spacy-models/releases/download/en_core_web_sm-3.7.0/en_core_web_sm-3.7.0-py3-none-any.whl (12.8 MB)\n",
      "Requirement already satisfied: spacy<3.8.0,>=3.7.0 in c:\\users\\shreyas\\anaconda3\\lib\\site-packages (from en-core-web-sm==3.7.0) (3.7.2)\n",
      "Requirement already satisfied: murmurhash<1.1.0,>=0.28.0 in c:\\users\\shreyas\\anaconda3\\lib\\site-packages (from spacy<3.8.0,>=3.7.0->en-core-web-sm==3.7.0) (1.0.10)\n",
      "Requirement already satisfied: numpy>=1.19.0 in c:\\users\\shreyas\\anaconda3\\lib\\site-packages (from spacy<3.8.0,>=3.7.0->en-core-web-sm==3.7.0) (1.24.4)\n",
      "Requirement already satisfied: pydantic!=1.8,!=1.8.1,<3.0.0,>=1.7.4 in c:\\users\\shreyas\\anaconda3\\lib\\site-packages (from spacy<3.8.0,>=3.7.0->en-core-web-sm==3.7.0) (2.4.2)\n",
      "Requirement already satisfied: packaging>=20.0 in c:\\users\\shreyas\\anaconda3\\lib\\site-packages (from spacy<3.8.0,>=3.7.0->en-core-web-sm==3.7.0) (21.3)\n",
      "Requirement already satisfied: weasel<0.4.0,>=0.1.0 in c:\\users\\shreyas\\anaconda3\\lib\\site-packages (from spacy<3.8.0,>=3.7.0->en-core-web-sm==3.7.0) (0.3.4)\n",
      "Requirement already satisfied: spacy-loggers<2.0.0,>=1.0.0 in c:\\users\\shreyas\\anaconda3\\lib\\site-packages (from spacy<3.8.0,>=3.7.0->en-core-web-sm==3.7.0) (1.0.5)\n",
      "Requirement already satisfied: cymem<2.1.0,>=2.0.2 in c:\\users\\shreyas\\anaconda3\\lib\\site-packages (from spacy<3.8.0,>=3.7.0->en-core-web-sm==3.7.0) (2.0.8)\n",
      "Requirement already satisfied: typer<0.10.0,>=0.3.0 in c:\\users\\shreyas\\anaconda3\\lib\\site-packages (from spacy<3.8.0,>=3.7.0->en-core-web-sm==3.7.0) (0.9.0)\n",
      "Requirement already satisfied: smart-open<7.0.0,>=5.2.1 in c:\\users\\shreyas\\anaconda3\\lib\\site-packages (from spacy<3.8.0,>=3.7.0->en-core-web-sm==3.7.0) (5.2.1)\n",
      "Requirement already satisfied: requests<3.0.0,>=2.13.0 in c:\\users\\shreyas\\anaconda3\\lib\\site-packages (from spacy<3.8.0,>=3.7.0->en-core-web-sm==3.7.0) (2.28.1)\n",
      "Requirement already satisfied: preshed<3.1.0,>=3.0.2 in c:\\users\\shreyas\\anaconda3\\lib\\site-packages (from spacy<3.8.0,>=3.7.0->en-core-web-sm==3.7.0) (3.0.9)\n",
      "Requirement already satisfied: spacy-legacy<3.1.0,>=3.0.11 in c:\\users\\shreyas\\anaconda3\\lib\\site-packages (from spacy<3.8.0,>=3.7.0->en-core-web-sm==3.7.0) (3.0.12)\n",
      "Requirement already satisfied: langcodes<4.0.0,>=3.2.0 in c:\\users\\shreyas\\anaconda3\\lib\\site-packages (from spacy<3.8.0,>=3.7.0->en-core-web-sm==3.7.0) (3.3.0)\n",
      "Requirement already satisfied: jinja2 in c:\\users\\shreyas\\anaconda3\\lib\\site-packages (from spacy<3.8.0,>=3.7.0->en-core-web-sm==3.7.0) (2.11.3)\n",
      "Requirement already satisfied: tqdm<5.0.0,>=4.38.0 in c:\\users\\shreyas\\anaconda3\\lib\\site-packages (from spacy<3.8.0,>=3.7.0->en-core-web-sm==3.7.0) (4.64.1)\n",
      "Requirement already satisfied: catalogue<2.1.0,>=2.0.6 in c:\\users\\shreyas\\anaconda3\\lib\\site-packages (from spacy<3.8.0,>=3.7.0->en-core-web-sm==3.7.0) (2.0.10)\n",
      "Requirement already satisfied: srsly<3.0.0,>=2.4.3 in c:\\users\\shreyas\\anaconda3\\lib\\site-packages (from spacy<3.8.0,>=3.7.0->en-core-web-sm==3.7.0) (2.4.8)\n",
      "Requirement already satisfied: thinc<8.3.0,>=8.1.8 in c:\\users\\shreyas\\anaconda3\\lib\\site-packages (from spacy<3.8.0,>=3.7.0->en-core-web-sm==3.7.0) (8.2.1)\n",
      "Requirement already satisfied: wasabi<1.2.0,>=0.9.1 in c:\\users\\shreyas\\anaconda3\\lib\\site-packages (from spacy<3.8.0,>=3.7.0->en-core-web-sm==3.7.0) (1.1.2)\n",
      "Requirement already satisfied: setuptools in c:\\users\\shreyas\\anaconda3\\lib\\site-packages (from spacy<3.8.0,>=3.7.0->en-core-web-sm==3.7.0) (63.4.1)\n",
      "Requirement already satisfied: pyparsing!=3.0.5,>=2.0.2 in c:\\users\\shreyas\\anaconda3\\lib\\site-packages (from packaging>=20.0->spacy<3.8.0,>=3.7.0->en-core-web-sm==3.7.0) (3.0.9)\n",
      "Requirement already satisfied: typing-extensions>=4.6.1 in c:\\users\\shreyas\\anaconda3\\lib\\site-packages (from pydantic!=1.8,!=1.8.1,<3.0.0,>=1.7.4->spacy<3.8.0,>=3.7.0->en-core-web-sm==3.7.0) (4.8.0)\n",
      "Requirement already satisfied: pydantic-core==2.10.1 in c:\\users\\shreyas\\anaconda3\\lib\\site-packages (from pydantic!=1.8,!=1.8.1,<3.0.0,>=1.7.4->spacy<3.8.0,>=3.7.0->en-core-web-sm==3.7.0) (2.10.1)\n",
      "Requirement already satisfied: annotated-types>=0.4.0 in c:\\users\\shreyas\\anaconda3\\lib\\site-packages (from pydantic!=1.8,!=1.8.1,<3.0.0,>=1.7.4->spacy<3.8.0,>=3.7.0->en-core-web-sm==3.7.0) (0.6.0)\n",
      "Requirement already satisfied: idna<4,>=2.5 in c:\\users\\shreyas\\anaconda3\\lib\\site-packages (from requests<3.0.0,>=2.13.0->spacy<3.8.0,>=3.7.0->en-core-web-sm==3.7.0) (3.3)\n",
      "Requirement already satisfied: charset-normalizer<3,>=2 in c:\\users\\shreyas\\anaconda3\\lib\\site-packages (from requests<3.0.0,>=2.13.0->spacy<3.8.0,>=3.7.0->en-core-web-sm==3.7.0) (2.0.4)\n",
      "Requirement already satisfied: urllib3<1.27,>=1.21.1 in c:\\users\\shreyas\\anaconda3\\lib\\site-packages (from requests<3.0.0,>=2.13.0->spacy<3.8.0,>=3.7.0->en-core-web-sm==3.7.0) (1.26.11)\n",
      "Requirement already satisfied: certifi>=2017.4.17 in c:\\users\\shreyas\\anaconda3\\lib\\site-packages (from requests<3.0.0,>=2.13.0->spacy<3.8.0,>=3.7.0->en-core-web-sm==3.7.0) (2022.9.14)\n",
      "Requirement already satisfied: confection<1.0.0,>=0.0.1 in c:\\users\\shreyas\\anaconda3\\lib\\site-packages (from thinc<8.3.0,>=8.1.8->spacy<3.8.0,>=3.7.0->en-core-web-sm==3.7.0) (0.1.3)\n",
      "Requirement already satisfied: blis<0.8.0,>=0.7.8 in c:\\users\\shreyas\\anaconda3\\lib\\site-packages (from thinc<8.3.0,>=8.1.8->spacy<3.8.0,>=3.7.0->en-core-web-sm==3.7.0) (0.7.11)\n",
      "Requirement already satisfied: colorama in c:\\users\\shreyas\\anaconda3\\lib\\site-packages (from tqdm<5.0.0,>=4.38.0->spacy<3.8.0,>=3.7.0->en-core-web-sm==3.7.0) (0.4.6)\n",
      "Requirement already satisfied: click<9.0.0,>=7.1.1 in c:\\users\\shreyas\\anaconda3\\lib\\site-packages (from typer<0.10.0,>=0.3.0->spacy<3.8.0,>=3.7.0->en-core-web-sm==3.7.0) (8.0.4)\n",
      "Requirement already satisfied: cloudpathlib<0.17.0,>=0.7.0 in c:\\users\\shreyas\\anaconda3\\lib\\site-packages (from weasel<0.4.0,>=0.1.0->spacy<3.8.0,>=3.7.0->en-core-web-sm==3.7.0) (0.16.0)\n",
      "Requirement already satisfied: MarkupSafe>=0.23 in c:\\users\\shreyas\\anaconda3\\lib\\site-packages (from jinja2->spacy<3.8.0,>=3.7.0->en-core-web-sm==3.7.0) (2.0.1)\n",
      "\u001b[38;5;2m[+] Download and installation successful\u001b[0m\n",
      "You can now load the package via spacy.load('en_core_web_sm')\n"
     ]
    },
    {
     "name": "stderr",
     "output_type": "stream",
     "text": [
      "WARNING: Ignoring invalid distribution -pencv-python (c:\\users\\shreyas\\anaconda3\\lib\\site-packages)\n",
      "WARNING: Ignoring invalid distribution -pencv-python (c:\\users\\shreyas\\anaconda3\\lib\\site-packages)\n",
      "WARNING: Ignoring invalid distribution -pencv-python (c:\\users\\shreyas\\anaconda3\\lib\\site-packages)\n",
      "WARNING: Ignoring invalid distribution -pencv-python (c:\\users\\shreyas\\anaconda3\\lib\\site-packages)\n",
      "WARNING: Ignoring invalid distribution -pencv-python (c:\\users\\shreyas\\anaconda3\\lib\\site-packages)\n",
      "WARNING: Ignoring invalid distribution -pencv-python (c:\\users\\shreyas\\anaconda3\\lib\\site-packages)\n"
     ]
    }
   ],
   "source": [
    "!python -m spacy download en_core_web_sm"
   ]
  },
  {
   "cell_type": "code",
   "execution_count": 26,
   "id": "8a68b608",
   "metadata": {},
   "outputs": [],
   "source": [
    "import spacy\n",
    "import pytextrank"
   ]
  },
  {
   "cell_type": "code",
   "execution_count": 27,
   "id": "1dd49f22",
   "metadata": {},
   "outputs": [],
   "source": [
    "# load a spaCy model, depending on language, scale, etc.\n",
    "nlp = spacy.load(\"en_core_web_sm\")\n",
    "# add PyTextRank to the spaCy pipeline\n",
    "nlp.add_pipe(\"textrank\")\n",
    "doc = nlp(processed_paragraph)"
   ]
  },
  {
   "cell_type": "code",
   "execution_count": 28,
   "id": "292ba0ed",
   "metadata": {},
   "outputs": [
    {
     "name": "stdout",
     "output_type": "stream",
     "text": [
      "power data science machine\n",
      "climate science data driven models\n",
      "professionals proficient data science machine\n",
      "innovation efficiency competitiveness data science machine learning\n",
      "data driven strategies\n",
      "future various industries data science multidisciplinary field\n",
      "advanced statistical techniques predictive modeling data science\n",
      "data\n",
      "raw data\n",
      "vast datasets data scientists\n"
     ]
    }
   ],
   "source": [
    "# examine the top-ranked phrases in the document\n",
    "for phrase in doc._.phrases[:10]:\n",
    "    print(phrase.text)"
   ]
  },
  {
   "cell_type": "code",
   "execution_count": 29,
   "id": "f1b1169e",
   "metadata": {},
   "outputs": [],
   "source": [
    "#TF-IDF\n",
    "import sklearn\n",
    "from sklearn.feature_extraction.text import TfidfVectorizer"
   ]
  },
  {
   "cell_type": "code",
   "execution_count": 30,
   "id": "f07306d6",
   "metadata": {},
   "outputs": [],
   "source": [
    "# Create a TfidfVectorizer object\n",
    "vectorizer = TfidfVectorizer()"
   ]
  },
  {
   "cell_type": "code",
   "execution_count": 31,
   "id": "abd33c6f",
   "metadata": {},
   "outputs": [],
   "source": [
    "# Fit and transform the paragraph using the vectorizer\n",
    "tfidf_matrix = vectorizer.fit_transform([processed_paragraph])"
   ]
  },
  {
   "cell_type": "code",
   "execution_count": 32,
   "id": "38bbbaa5",
   "metadata": {},
   "outputs": [],
   "source": [
    "# Get the feature names (words) from the vectorizer\n",
    "feature_names = vectorizer.get_feature_names_out()"
   ]
  },
  {
   "cell_type": "code",
   "execution_count": 33,
   "id": "75bf66ac",
   "metadata": {},
   "outputs": [],
   "source": [
    "# Get the TF-IDF values as a sparse matrix\n",
    "tfidf_values = tfidf_matrix.todense()"
   ]
  },
  {
   "cell_type": "code",
   "execution_count": 34,
   "id": "e3266314",
   "metadata": {},
   "outputs": [
    {
     "name": "stdout",
     "output_type": "stream",
     "text": [
      "Word: brighter, TF-IDF: 0.0412744171706498\n",
      "Word: pave, TF-IDF: 0.0412744171706498\n",
      "Word: growth, TF-IDF: 0.0412744171706498\n",
      "Word: economic, TF-IDF: 0.0412744171706498\n",
      "Word: drive, TF-IDF: 0.0412744171706498\n",
      "Word: challenges, TF-IDF: 0.0412744171706498\n",
      "Word: tackle, TF-IDF: 0.0412744171706498\n",
      "Word: societies, TF-IDF: 0.0412744171706498\n",
      "Word: harnessing, TF-IDF: 0.0412744171706498\n",
      "Word: making, TF-IDF: 0.0412744171706498\n",
      "Word: decision, TF-IDF: 0.0412744171706498\n",
      "Word: technology, TF-IDF: 0.0412744171706498\n",
      "Word: landscape, TF-IDF: 0.0412744171706498\n",
      "Word: instrumental, TF-IDF: 0.0412744171706498\n",
      "Word: expertise, TF-IDF: 0.0412744171706498\n",
      "Word: demand, TF-IDF: 0.0412744171706498\n",
      "Word: high, TF-IDF: 0.0412744171706498\n",
      "Word: proficient, TF-IDF: 0.0412744171706498\n",
      "Word: professionals, TF-IDF: 0.0412744171706498\n",
      "Word: rely, TF-IDF: 0.0412744171706498\n",
      "Word: increasingly, TF-IDF: 0.0412744171706498\n",
      "Word: disasters, TF-IDF: 0.0412744171706498\n",
      "Word: related, TF-IDF: 0.0412744171706498\n",
      "Word: impact, TF-IDF: 0.0412744171706498\n",
      "Word: mitigating, TF-IDF: 0.0412744171706498\n",
      "Word: policies, TF-IDF: 0.0412744171706498\n",
      "Word: sustainable, TF-IDF: 0.0412744171706498\n",
      "Word: facilitating, TF-IDF: 0.0412744171706498\n",
      "Word: changes, TF-IDF: 0.0412744171706498\n",
      "Word: environmental, TF-IDF: 0.0412744171706498\n",
      "Word: predict, TF-IDF: 0.0412744171706498\n",
      "Word: help, TF-IDF: 0.0412744171706498\n",
      "Word: driven, TF-IDF: 0.0825488343412996\n",
      "Word: investments, TF-IDF: 0.0412744171706498\n",
      "Word: maximizing, TF-IDF: 0.0412744171706498\n",
      "Word: transactions, TF-IDF: 0.0412744171706498\n",
      "Word: financial, TF-IDF: 0.0412744171706498\n",
      "Word: secure, TF-IDF: 0.0412744171706498\n",
      "Word: ensuring, TF-IDF: 0.0412744171706498\n",
      "Word: transaction, TF-IDF: 0.0412744171706498\n",
      "Word: analyze, TF-IDF: 0.0412744171706498\n",
      "Word: trading, TF-IDF: 0.0412744171706498\n",
      "Word: algorithmic, TF-IDF: 0.0412744171706498\n",
      "Word: outcomes, TF-IDF: 0.0412744171706498\n",
      "Word: patient, TF-IDF: 0.0412744171706498\n",
      "Word: improving, TF-IDF: 0.0412744171706498\n",
      "Word: plans, TF-IDF: 0.0412744171706498\n",
      "Word: treatment, TF-IDF: 0.0412744171706498\n",
      "Word: optimizing, TF-IDF: 0.0412744171706498\n",
      "Word: prognosis, TF-IDF: 0.0412744171706498\n",
      "Word: diagnosis, TF-IDF: 0.0412744171706498\n",
      "Word: disease, TF-IDF: 0.0412744171706498\n",
      "Word: aid, TF-IDF: 0.0412744171706498\n",
      "Word: models, TF-IDF: 0.0825488343412996\n",
      "Word: climate, TF-IDF: 0.12382325151194941\n",
      "Word: finance, TF-IDF: 0.0825488343412996\n",
      "Word: healthcare, TF-IDF: 0.0825488343412996\n",
      "Word: fields, TF-IDF: 0.0412744171706498\n",
      "Word: research, TF-IDF: 0.0412744171706498\n",
      "Word: groundbreaking, TF-IDF: 0.0412744171706498\n",
      "Word: drives, TF-IDF: 0.0412744171706498\n",
      "Word: synergy, TF-IDF: 0.0412744171706498\n",
      "Word: moreover, TF-IDF: 0.0412744171706498\n",
      "Word: problems, TF-IDF: 0.0412744171706498\n",
      "Word: solutions, TF-IDF: 0.0412744171706498\n",
      "Word: innovative, TF-IDF: 0.0412744171706498\n",
      "Word: development, TF-IDF: 0.0412744171706498\n",
      "Word: error, TF-IDF: 0.0412744171706498\n",
      "Word: human, TF-IDF: 0.0412744171706498\n",
      "Word: reduce, TF-IDF: 0.0412744171706498\n",
      "Word: technologies, TF-IDF: 0.0412744171706498\n",
      "Word: vehicles, TF-IDF: 0.0412744171706498\n",
      "Word: autonomous, TF-IDF: 0.0412744171706498\n",
      "Word: detection, TF-IDF: 0.0825488343412996\n",
      "Word: fraud, TF-IDF: 0.0825488343412996\n",
      "Word: recommendation, TF-IDF: 0.0412744171706498\n",
      "Word: assistants, TF-IDF: 0.0412744171706498\n",
      "Word: virtual, TF-IDF: 0.0412744171706498\n",
      "Word: applications, TF-IDF: 0.0412744171706498\n",
      "Word: myriad, TF-IDF: 0.0412744171706498\n",
      "Word: power, TF-IDF: 0.0825488343412996\n",
      "Word: programming, TF-IDF: 0.0412744171706498\n",
      "Word: explicit, TF-IDF: 0.0412744171706498\n",
      "Word: without, TF-IDF: 0.0412744171706498\n",
      "Word: tasks, TF-IDF: 0.0412744171706498\n",
      "Word: automate, TF-IDF: 0.0412744171706498\n",
      "Word: complex, TF-IDF: 0.0825488343412996\n",
      "Word: recognize, TF-IDF: 0.0412744171706498\n",
      "Word: computers, TF-IDF: 0.0412744171706498\n",
      "Word: enable, TF-IDF: 0.0825488343412996\n",
      "Word: algorithms, TF-IDF: 0.0825488343412996\n",
      "Word: time, TF-IDF: 0.0412744171706498\n",
      "Word: performance, TF-IDF: 0.0412744171706498\n",
      "Word: improve, TF-IDF: 0.0412744171706498\n",
      "Word: learn, TF-IDF: 0.0412744171706498\n",
      "Word: ability, TF-IDF: 0.0412744171706498\n",
      "Word: systems, TF-IDF: 0.12382325151194941\n",
      "Word: equips, TF-IDF: 0.0412744171706498\n",
      "Word: intelligence, TF-IDF: 0.0412744171706498\n",
      "Word: artificial, TF-IDF: 0.0412744171706498\n",
      "Word: subset, TF-IDF: 0.0412744171706498\n",
      "Word: streams, TF-IDF: 0.0412744171706498\n",
      "Word: revenue, TF-IDF: 0.0412744171706498\n",
      "Word: increasing, TF-IDF: 0.0412744171706498\n",
      "Word: loyalty, TF-IDF: 0.0412744171706498\n",
      "Word: fostering, TF-IDF: 0.0412744171706498\n",
      "Word: recommendations, TF-IDF: 0.0412744171706498\n",
      "Word: product, TF-IDF: 0.0412744171706498\n",
      "Word: strategies, TF-IDF: 0.0825488343412996\n",
      "Word: marketing, TF-IDF: 0.0412744171706498\n",
      "Word: personalized, TF-IDF: 0.0412744171706498\n",
      "Word: behavior, TF-IDF: 0.0412744171706498\n",
      "Word: consumer, TF-IDF: 0.0412744171706498\n",
      "Word: understanding, TF-IDF: 0.0412744171706498\n",
      "Word: deeper, TF-IDF: 0.0412744171706498\n",
      "Word: provides, TF-IDF: 0.0412744171706498\n",
      "Word: modeling, TF-IDF: 0.0412744171706498\n",
      "Word: predictive, TF-IDF: 0.0825488343412996\n",
      "Word: techniques, TF-IDF: 0.0412744171706498\n",
      "Word: statistical, TF-IDF: 0.0412744171706498\n",
      "Word: advanced, TF-IDF: 0.0412744171706498\n",
      "Word: opportunities, TF-IDF: 0.0412744171706498\n",
      "Word: market, TF-IDF: 0.0825488343412996\n",
      "Word: identify, TF-IDF: 0.0412744171706498\n",
      "Word: experiences, TF-IDF: 0.0412744171706498\n",
      "Word: customer, TF-IDF: 0.0825488343412996\n",
      "Word: enhance, TF-IDF: 0.0825488343412996\n",
      "Word: processes, TF-IDF: 0.0412744171706498\n",
      "Word: optimize, TF-IDF: 0.0412744171706498\n",
      "Word: enabling, TF-IDF: 0.0825488343412996\n",
      "Word: correlations, TF-IDF: 0.0412744171706498\n",
      "Word: trends, TF-IDF: 0.0825488343412996\n",
      "Word: patterns, TF-IDF: 0.12382325151194941\n",
      "Word: uncover, TF-IDF: 0.0412744171706498\n",
      "Word: scientists, TF-IDF: 0.0412744171706498\n",
      "Word: datasets, TF-IDF: 0.0412744171706498\n",
      "Word: vast, TF-IDF: 0.0412744171706498\n",
      "Word: analyzing, TF-IDF: 0.0412744171706498\n",
      "Word: decisions, TF-IDF: 0.0412744171706498\n",
      "Word: informed, TF-IDF: 0.0825488343412996\n",
      "Word: make, TF-IDF: 0.0825488343412996\n",
      "Word: organizations, TF-IDF: 0.0412744171706498\n",
      "Word: empowers, TF-IDF: 0.0412744171706498\n",
      "Word: computer, TF-IDF: 0.0412744171706498\n",
      "Word: mathematics, TF-IDF: 0.0412744171706498\n",
      "Word: statistics, TF-IDF: 0.0412744171706498\n",
      "Word: encompasses, TF-IDF: 0.0412744171706498\n",
      "Word: field, TF-IDF: 0.0412744171706498\n",
      "Word: multidisciplinary, TF-IDF: 0.0412744171706498\n",
      "Word: industries, TF-IDF: 0.0412744171706498\n",
      "Word: various, TF-IDF: 0.0412744171706498\n",
      "Word: future, TF-IDF: 0.12382325151194941\n",
      "Word: shaping, TF-IDF: 0.0825488343412996\n",
      "Word: role, TF-IDF: 0.0412744171706498\n",
      "Word: pivotal, TF-IDF: 0.0412744171706498\n",
      "Word: play, TF-IDF: 0.0412744171706498\n",
      "Word: overstated, TF-IDF: 0.0412744171706498\n",
      "Word: importance, TF-IDF: 0.0412744171706498\n",
      "Word: predictions, TF-IDF: 0.0825488343412996\n",
      "Word: insights, TF-IDF: 0.0412744171706498\n",
      "Word: actionable, TF-IDF: 0.0412744171706498\n",
      "Word: raw, TF-IDF: 0.0412744171706498\n",
      "Word: transforming, TF-IDF: 0.0412744171706498\n",
      "Word: operate, TF-IDF: 0.0412744171706498\n",
      "Word: businesses, TF-IDF: 0.12382325151194941\n",
      "Word: way, TF-IDF: 0.0825488343412996\n",
      "Word: revolutionized, TF-IDF: 0.0412744171706498\n",
      "Word: learning, TF-IDF: 0.24764650302389882\n",
      "Word: machine, TF-IDF: 0.24764650302389882\n",
      "Word: science, TF-IDF: 0.37146975453584824\n",
      "Word: competitiveness, TF-IDF: 0.0412744171706498\n",
      "Word: efficiency, TF-IDF: 0.0825488343412996\n",
      "Word: innovation, TF-IDF: 0.0825488343412996\n",
      "Word: driving, TF-IDF: 0.0412744171706498\n",
      "Word: enterprises, TF-IDF: 0.0412744171706498\n",
      "Word: modern, TF-IDF: 0.0412744171706498\n",
      "Word: lifeblood, TF-IDF: 0.0412744171706498\n",
      "Word: emerged, TF-IDF: 0.0412744171706498\n",
      "Word: data, TF-IDF: 0.49529300604779763\n",
      "Word: age, TF-IDF: 0.0412744171706498\n",
      "Word: digital, TF-IDF: 0.0412744171706498\n",
      "Word: today, TF-IDF: 0.0412744171706498\n"
     ]
    }
   ],
   "source": [
    "# Print the TF-IDF values for each word in the paragraph\n",
    "for col in tfidf_matrix.nonzero()[1]:\n",
    "    print(f\"Word: {feature_names[col]}, TF-IDF: {tfidf_values[0, col]}\")"
   ]
  },
  {
   "cell_type": "code",
   "execution_count": null,
   "id": "0f25faea",
   "metadata": {},
   "outputs": [],
   "source": []
  }
 ],
 "metadata": {
  "kernelspec": {
   "display_name": "Python 3 (ipykernel)",
   "language": "python",
   "name": "python3"
  },
  "language_info": {
   "codemirror_mode": {
    "name": "ipython",
    "version": 3
   },
   "file_extension": ".py",
   "mimetype": "text/x-python",
   "name": "python",
   "nbconvert_exporter": "python",
   "pygments_lexer": "ipython3",
   "version": "3.9.13"
  }
 },
 "nbformat": 4,
 "nbformat_minor": 5
}
